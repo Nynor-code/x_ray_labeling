{
 "cells": [
  {
   "cell_type": "code",
   "execution_count": 1,
   "metadata": {},
   "outputs": [],
   "source": [
    "import tkinter as tk\n",
    "\n",
    "def button_click():\n",
    "    label.config(text=\"Button Clicked!\")\n",
    "\n",
    "# Create the main window\n",
    "window = tk.Tk()\n",
    "window.title(\"Simple GUI\")\n",
    "\n",
    "# Create a label\n",
    "label = tk.Label(window, text=\"Hello, Tkinter!\")\n",
    "label.pack(pady=10)\n",
    "\n",
    "# Create a button\n",
    "button = tk.Button(window, text=\"Click me!\", command=button_click)\n",
    "button.pack(pady=10)\n",
    "\n",
    "# Run the main loop\n",
    "window.mainloop()"
   ]
  },
  {
   "cell_type": "code",
   "execution_count": 2,
   "metadata": {},
   "outputs": [
    {
     "name": "stdout",
     "output_type": "stream",
     "text": [
      "Requirement already satisfied: tk in /Users/nynor/CODE/Nynor-code/projects/x_ray_labeling/venv/lib/python3.10/site-packages (0.1.0)\n"
     ]
    }
   ],
   "source": [
    "!pip install --upgrade tk"
   ]
  },
  {
   "cell_type": "code",
   "execution_count": 1,
   "metadata": {},
   "outputs": [],
   "source": [
    "import tkinter as tk\n",
    "from tkinter import messagebox\n",
    "from PIL import Image, ImageTk\n",
    "import os\n",
    "\n",
    "# Path to a single image for testing\n",
    "image_path = \"/Users/nynor/CODE/Nynor-code/projects/x_ray_labeling/data/Bone_fracture2.v1i/train/Fractured/IMG0002449_jpg.rf.71486b3de332600c0d571fec1e192d30.jpg\"\n",
    "\n",
    "def show_image():\n",
    "    root = tk.Tk()\n",
    "    root.title(\"X-Ray Image Test\")\n",
    "\n",
    "    # Create a canvas to display the image\n",
    "    canvas = tk.Canvas(root, width=500, height=500)\n",
    "    canvas.pack()\n",
    "\n",
    "    try:\n",
    "        img = Image.open(image_path)\n",
    "        img.thumbnail((500, 500))  # Resize while keeping aspect ratio\n",
    "\n",
    "        photo = ImageTk.PhotoImage(img)\n",
    "        print(f\"Opening image: {image_path}\")\n",
    "        print(f\"Image size: {img.size}\")\n",
    "        print(f\"Image mode: {img.mode}\")\n",
    "\n",
    "        canvas.create_image(250, 250, image=photo)  # Center image on canvas\n",
    "        print(\"Image displayed on canvas\")\n",
    "\n",
    "        # Keep a reference to the image object to prevent garbage collection\n",
    "        canvas.image = photo\n",
    "\n",
    "        # Force update of Tkinter window\n",
    "        root.update()\n",
    "\n",
    "        root.mainloop()  # Start Tkinter main loop\n",
    "    except Exception as e:\n",
    "        print(f\"Error loading {image_path}: {e}\")"
   ]
  },
  {
   "cell_type": "code",
   "execution_count": 2,
   "metadata": {},
   "outputs": [
    {
     "name": "stdout",
     "output_type": "stream",
     "text": [
      "Opening image: /Users/nynor/CODE/Nynor-code/projects/x_ray_labeling/data/Bone_fracture2.v1i/train/Fractured/IMG0002449_jpg.rf.71486b3de332600c0d571fec1e192d30.jpg\n",
      "Image size: (500, 500)\n",
      "Image mode: RGB\n",
      "Image displayed on canvas\n"
     ]
    },
    {
     "name": "stderr",
     "output_type": "stream",
     "text": [
      "2025-03-18 17:22:15.261 Python[40247:1530689] +[IMKClient subclass]: chose IMKClient_Modern\n",
      "2025-03-18 17:22:15.261 Python[40247:1530689] +[IMKInputSession subclass]: chose IMKInputSession_Modern\n"
     ]
    }
   ],
   "source": [
    "show_image()\n"
   ]
  }
 ],
 "metadata": {
  "kernelspec": {
   "display_name": "Python 3",
   "language": "python",
   "name": "python3"
  },
  "language_info": {
   "codemirror_mode": {
    "name": "ipython",
    "version": 3
   },
   "file_extension": ".py",
   "mimetype": "text/x-python",
   "name": "python",
   "nbconvert_exporter": "python",
   "pygments_lexer": "ipython3",
   "version": "3.12.0"
  }
 },
 "nbformat": 4,
 "nbformat_minor": 2
}
